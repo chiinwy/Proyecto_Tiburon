{
 "cells": [
  {
   "cell_type": "markdown",
   "id": "c83b359a",
   "metadata": {},
   "source": [
    "### LIMPIEZA DE TABLA"
   ]
  },
  {
   "cell_type": "code",
   "execution_count": 1,
   "id": "c092aa82",
   "metadata": {},
   "outputs": [],
   "source": [
    "import pandas as pd\n",
    "import numpy as np\n",
    "\n",
    "pd.set_option('display.max_rows', None)\n",
    "pd.set_option('display.max_columns', None)\n",
    "\n",
    "import warnings\n",
    "warnings.filterwarnings('ignore')"
   ]
  },
  {
   "cell_type": "code",
   "execution_count": 2,
   "id": "5e86cc0a",
   "metadata": {},
   "outputs": [],
   "source": [
    "# Cargar el csv de los tiburones\n",
    "\n",
    "data = pd.read_csv('C:\\\\Users\\\\chiin\\\\Desktop\\\\Proyecto_Tiburon\\\\attacks.csv', encoding='latin-1', low_memory = False)"
   ]
  },
  {
   "cell_type": "code",
   "execution_count": 3,
   "id": "8d04c422",
   "metadata": {},
   "outputs": [
    {
     "data": {
      "text/plain": [
       "(25723, 24)"
      ]
     },
     "execution_count": 3,
     "metadata": {},
     "output_type": "execute_result"
    }
   ],
   "source": [
    "data.shape"
   ]
  },
  {
   "cell_type": "code",
   "execution_count": 4,
   "id": "58ac96fd",
   "metadata": {},
   "outputs": [
    {
     "data": {
      "text/plain": [
       "Index(['Case Number', 'Date', 'Year', 'Type', 'Country', 'Area', 'Location',\n",
       "       'Activity', 'Name', 'Sex ', 'Age', 'Injury', 'Fatal (Y/N)', 'Time',\n",
       "       'Species ', 'Investigator or Source', 'pdf', 'href formula', 'href',\n",
       "       'Case Number.1', 'Case Number.2', 'original order', 'Unnamed: 22',\n",
       "       'Unnamed: 23'],\n",
       "      dtype='object')"
      ]
     },
     "execution_count": 4,
     "metadata": {},
     "output_type": "execute_result"
    }
   ],
   "source": [
    "data.columns"
   ]
  },
  {
   "cell_type": "code",
   "execution_count": 5,
   "id": "fa735467",
   "metadata": {},
   "outputs": [
    {
     "data": {
      "text/plain": [
       "(8703, 24)"
      ]
     },
     "execution_count": 5,
     "metadata": {},
     "output_type": "execute_result"
    }
   ],
   "source": [
    "#borrar todas las filas donde toda la fila sean valores nulos\n",
    "\n",
    "data = data.dropna(axis = 0, how='all')\n",
    "\n",
    "data.shape"
   ]
  },
  {
   "cell_type": "code",
   "execution_count": 6,
   "id": "21368a9f",
   "metadata": {},
   "outputs": [
    {
     "data": {
      "text/plain": [
       "(6311, 24)"
      ]
     },
     "execution_count": 6,
     "metadata": {},
     "output_type": "execute_result"
    }
   ],
   "source": [
    "# Borrar duplicados\n",
    "\n",
    "data = data.drop_duplicates()\n",
    "\n",
    "data.shape"
   ]
  },
  {
   "cell_type": "code",
   "execution_count": 7,
   "id": "3c93a065",
   "metadata": {},
   "outputs": [
    {
     "data": {
      "text/plain": [
       "(6311, 24)"
      ]
     },
     "execution_count": 7,
     "metadata": {},
     "output_type": "execute_result"
    }
   ],
   "source": [
    "# Resetear el index sin crear una columna nueva llamada Index\n",
    "\n",
    "data.reset_index(drop = True, inplace=True)\n",
    "\n",
    "data.shape"
   ]
  },
  {
   "cell_type": "code",
   "execution_count": 8,
   "id": "6652ecc3",
   "metadata": {},
   "outputs": [
    {
     "data": {
      "text/plain": [
       "(6309, 24)"
      ]
     },
     "execution_count": 8,
     "metadata": {},
     "output_type": "execute_result"
    }
   ],
   "source": [
    "# Vamos a borrar filas con mas de un 90 % de valores nulos \n",
    "\n",
    "umbral = int(data.shape[1] * 0.1)\n",
    "\n",
    "data= data.dropna(thresh=umbral)\n",
    "\n",
    "data.shape"
   ]
  },
  {
   "cell_type": "code",
   "execution_count": 9,
   "id": "efbc5fec",
   "metadata": {
    "scrolled": true
   },
   "outputs": [
    {
     "data": {
      "text/plain": [
       "Case Number                  1\n",
       "Date                         7\n",
       "Year                         9\n",
       "Type                        11\n",
       "Country                     57\n",
       "Area                       462\n",
       "Location                   547\n",
       "Activity                   551\n",
       "Name                       217\n",
       "Sex                        572\n",
       "Age                       2838\n",
       "Injury                      35\n",
       "Fatal (Y/N)                546\n",
       "Time                      3361\n",
       "Species                   2845\n",
       "Investigator or Source      24\n",
       "pdf                          7\n",
       "href formula                 8\n",
       "href                         7\n",
       "Case Number.1                7\n",
       "Case Number.2                7\n",
       "Unnamed: 22               6308\n",
       "Unnamed: 23               6307\n",
       "dtype: int64"
      ]
     },
     "execution_count": 9,
     "metadata": {},
     "output_type": "execute_result"
    }
   ],
   "source": [
    "# Mirar la suma de valores nulos en cad columna\n",
    "\n",
    "nan_cols = data.isna().sum()\n",
    "\n",
    "nan_cols[nan_cols>0]"
   ]
  },
  {
   "cell_type": "code",
   "execution_count": 10,
   "id": "4830887e",
   "metadata": {},
   "outputs": [
    {
     "data": {
      "text/plain": [
       "(6309, 24)"
      ]
     },
     "execution_count": 10,
     "metadata": {},
     "output_type": "execute_result"
    }
   ],
   "source": [
    "data.shape"
   ]
  },
  {
   "cell_type": "code",
   "execution_count": 11,
   "id": "c70abaa9",
   "metadata": {},
   "outputs": [
    {
     "data": {
      "text/plain": [
       "N          74.492452\n",
       "Y          24.084678\n",
       "UNKNOWN     1.231997\n",
       " N          0.121465\n",
       "M           0.017352\n",
       "2017        0.017352\n",
       "N           0.017352\n",
       "y           0.017352\n",
       "Name: Fatal (Y/N), dtype: float64"
      ]
     },
     "execution_count": 11,
     "metadata": {},
     "output_type": "execute_result"
    }
   ],
   "source": [
    "\n",
    "\n",
    "data['Fatal (Y/N)'].value_counts(normalize=True) * 100"
   ]
  },
  {
   "cell_type": "code",
   "execution_count": 12,
   "id": "6e30f362",
   "metadata": {},
   "outputs": [
    {
     "data": {
      "text/plain": [
       "n          74.492452\n",
       "y          24.102030\n",
       "unknown     1.231997\n",
       " n          0.121465\n",
       "m           0.017352\n",
       "2017        0.017352\n",
       "n           0.017352\n",
       "Name: Fatal (Y/N), dtype: float64"
      ]
     },
     "execution_count": 12,
     "metadata": {},
     "output_type": "execute_result"
    }
   ],
   "source": [
    "data['Fatal (Y/N)'] = data['Fatal (Y/N)'].str.lower()\n",
    "\n",
    "data['Fatal (Y/N)'].value_counts(normalize=True) * 100"
   ]
  },
  {
   "cell_type": "code",
   "execution_count": 13,
   "id": "5ae38095",
   "metadata": {},
   "outputs": [
    {
     "data": {
      "text/plain": [
       "n          74.631268\n",
       "y          24.102030\n",
       "unknown     1.231997\n",
       "2017        0.017352\n",
       "n           0.017352\n",
       "Name: Fatal (Y/N), dtype: float64"
      ]
     },
     "execution_count": 13,
     "metadata": {},
     "output_type": "execute_result"
    }
   ],
   "source": [
    "data['Fatal (Y/N)'] = data['Fatal (Y/N)'].replace({' n' : 'n','m' : 'n'})\n",
    "\n",
    "data['Fatal (Y/N)'].value_counts(normalize=True) * 100"
   ]
  },
  {
   "cell_type": "code",
   "execution_count": 14,
   "id": "83060483",
   "metadata": {},
   "outputs": [
    {
     "data": {
      "text/plain": [
       "n          4301\n",
       "y          1389\n",
       "unknown      71\n",
       "2017          1\n",
       "n             1\n",
       "Name: Fatal (Y/N), dtype: int64"
      ]
     },
     "execution_count": 14,
     "metadata": {},
     "output_type": "execute_result"
    }
   ],
   "source": [
    "data['Fatal (Y/N)'].value_counts()"
   ]
  },
  {
   "cell_type": "code",
   "execution_count": 15,
   "id": "883cf4c6",
   "metadata": {},
   "outputs": [
    {
     "data": {
      "text/plain": [
       "(6309, 24)"
      ]
     },
     "execution_count": 15,
     "metadata": {},
     "output_type": "execute_result"
    }
   ],
   "source": [
    "# Eliminadas las filas donde el ataque no sea mortal o no\n",
    "\n",
    "data.shape"
   ]
  },
  {
   "cell_type": "code",
   "execution_count": 16,
   "id": "68604f94",
   "metadata": {},
   "outputs": [],
   "source": [
    "# Vamos a sobreescribir una columna nula y vamos a  poner los oceanos donde se haya realizado el ataque"
   ]
  },
  {
   "cell_type": "code",
   "execution_count": 17,
   "id": "c3a6d07b",
   "metadata": {},
   "outputs": [
    {
     "data": {
      "text/plain": [
       "(5762, 24)"
      ]
     },
     "execution_count": 17,
     "metadata": {},
     "output_type": "execute_result"
    }
   ],
   "source": [
    "data= data.dropna(subset=['Location'])\n",
    "\n",
    "data.shape"
   ]
  },
  {
   "cell_type": "code",
   "execution_count": 18,
   "id": "45c06f48",
   "metadata": {},
   "outputs": [
    {
     "data": {
      "text/plain": [
       "Index(['Case Number', 'Date', 'Year', 'Type', 'Country', 'Area', 'Location',\n",
       "       'Activity', 'Name', 'Sex ', 'Age', 'Injury', 'Fatal (Y/N)', 'Time',\n",
       "       'Species ', 'Investigator or Source', 'pdf', 'href formula', 'href',\n",
       "       'Case Number.1', 'Case Number.2', 'original order', 'ocean',\n",
       "       'Unnamed: 23'],\n",
       "      dtype='object')"
      ]
     },
     "execution_count": 18,
     "metadata": {},
     "output_type": "execute_result"
    }
   ],
   "source": [
    "data.rename(columns={'Unnamed: 22': 'ocean'}, inplace = True)\n",
    "\n",
    "data.columns"
   ]
  },
  {
   "cell_type": "code",
   "execution_count": 19,
   "id": "94cd330c",
   "metadata": {},
   "outputs": [
    {
     "data": {
      "text/plain": [
       "Case Number                  1\n",
       "Date                         7\n",
       "Year                         9\n",
       "Type                        11\n",
       "Country                     57\n",
       "Area                       462\n",
       "Location                   547\n",
       "Activity                   551\n",
       "Name                       217\n",
       "Sex                        572\n",
       "Age                       2838\n",
       "Injury                      35\n",
       "Fatal (Y/N)                546\n",
       "Time                      3361\n",
       "Species                   2845\n",
       "Investigator or Source      24\n",
       "pdf                          7\n",
       "href formula                 8\n",
       "href                         7\n",
       "Case Number.1                7\n",
       "Case Number.2                7\n",
       "Unnamed: 22               6308\n",
       "Unnamed: 23               6307\n",
       "dtype: int64"
      ]
     },
     "execution_count": 19,
     "metadata": {},
     "output_type": "execute_result"
    }
   ],
   "source": [
    "nan_cols[nan_cols>0]"
   ]
  },
  {
   "cell_type": "code",
   "execution_count": 20,
   "id": "fcff3ca9",
   "metadata": {},
   "outputs": [
    {
     "data": {
      "text/plain": [
       "Case Number                  1\n",
       "Year                         1\n",
       "Type                         3\n",
       "Country                     11\n",
       "Area                       215\n",
       "Activity                   457\n",
       "Name                       168\n",
       "Sex                        498\n",
       "Age                       2441\n",
       "Injury                      21\n",
       "Fatal (Y/N)                482\n",
       "Time                      2884\n",
       "Species                   2474\n",
       "Investigator or Source      16\n",
       "href formula                 1\n",
       "ocean                     5761\n",
       "Unnamed: 23               5761\n",
       "dtype: int64"
      ]
     },
     "execution_count": 20,
     "metadata": {},
     "output_type": "execute_result"
    }
   ],
   "source": [
    "nan_cols = data.isna().sum()\n",
    "\n",
    "nan_cols[nan_cols>0]"
   ]
  },
  {
   "cell_type": "code",
   "execution_count": 21,
   "id": "b5ad9d9a",
   "metadata": {},
   "outputs": [
    {
     "data": {
      "text/plain": [
       "Index(['Case Number', 'Date', 'Year', 'Type', 'Country', 'Area', 'Location',\n",
       "       'Activity', 'Name', 'Sex ', 'Age', 'Injury', 'Fatal (Y/N)', 'Time',\n",
       "       'Species ', 'Investigator or Source', 'pdf', 'href formula', 'href',\n",
       "       'Case Number.1', 'Case Number.2', 'original order', 'ocean',\n",
       "       'Unnamed: 23'],\n",
       "      dtype='object')"
      ]
     },
     "execution_count": 21,
     "metadata": {},
     "output_type": "execute_result"
    }
   ],
   "source": [
    "data.columns\n"
   ]
  },
  {
   "cell_type": "code",
   "execution_count": 22,
   "id": "fd3119d7",
   "metadata": {},
   "outputs": [
    {
     "data": {
      "text/plain": [
       "(3288, 24)"
      ]
     },
     "execution_count": 22,
     "metadata": {},
     "output_type": "execute_result"
    }
   ],
   "source": [
    "data= data.dropna(subset=['Species '])\n",
    "\n",
    "data.shape"
   ]
  },
  {
   "cell_type": "code",
   "execution_count": 24,
   "id": "8d54df3d",
   "metadata": {},
   "outputs": [
    {
     "data": {
      "text/plain": [
       "Country                      3\n",
       "Area                        83\n",
       "Activity                   201\n",
       "Name                        86\n",
       "Sex                        294\n",
       "Age                       1151\n",
       "Injury                       8\n",
       "Fatal (Y/N)                464\n",
       "Time                      1409\n",
       "Investigator or Source       8\n",
       "ocean                     3288\n",
       "Unnamed: 23               3288\n",
       "dtype: int64"
      ]
     },
     "execution_count": 24,
     "metadata": {},
     "output_type": "execute_result"
    }
   ],
   "source": [
    "nan_cols = data.isna().sum()\n",
    "\n",
    "nan_cols[nan_cols>0]"
   ]
  },
  {
   "cell_type": "code",
   "execution_count": 25,
   "id": "2a7f6e54",
   "metadata": {
    "scrolled": false
   },
   "outputs": [],
   "source": [
    "data.reset_index(drop = True, inplace=True)\n",
    "\n"
   ]
  },
  {
   "cell_type": "code",
   "execution_count": 26,
   "id": "14a99417",
   "metadata": {},
   "outputs": [
    {
     "data": {
      "text/plain": [
       "(3087, 24)"
      ]
     },
     "execution_count": 26,
     "metadata": {},
     "output_type": "execute_result"
    }
   ],
   "source": [
    "data= data.dropna(subset=['Activity'])\n",
    "\n",
    "data.shape"
   ]
  },
  {
   "cell_type": "code",
   "execution_count": 27,
   "id": "6177385f",
   "metadata": {},
   "outputs": [
    {
     "data": {
      "text/plain": [
       "(2727, 24)"
      ]
     },
     "execution_count": 27,
     "metadata": {},
     "output_type": "execute_result"
    }
   ],
   "source": [
    "data= data.dropna(subset=['Fatal (Y/N)'])\n",
    "\n",
    "data.shape"
   ]
  },
  {
   "cell_type": "markdown",
   "id": "cfa2f6db",
   "metadata": {},
   "source": [
    "### Ya tengo el Dataframe reducido, ahora a limpiar cada columna"
   ]
  },
  {
   "cell_type": "code",
   "execution_count": 28,
   "id": "cdf118ba",
   "metadata": {},
   "outputs": [
    {
     "data": {
      "text/plain": [
       "Index(['Case Number', 'Date', 'Year', 'Type', 'Country', 'Area', 'Location',\n",
       "       'Activity', 'Name', 'Sex', 'Age', 'Injury', 'Fatal (Y/N)', 'Time',\n",
       "       'Species', 'Investigator or Source', 'pdf', 'href formula', 'href',\n",
       "       'Case Number.1', 'Case Number.2', 'original order', 'ocean',\n",
       "       'Unnamed: 23'],\n",
       "      dtype='object')"
      ]
     },
     "execution_count": 28,
     "metadata": {},
     "output_type": "execute_result"
    }
   ],
   "source": [
    "data.columns = data.columns.str.strip()\n",
    "\n",
    "data.columns"
   ]
  },
  {
   "cell_type": "code",
   "execution_count": 29,
   "id": "e3e62c46",
   "metadata": {},
   "outputs": [
    {
     "data": {
      "text/plain": [
       "Index(['casenumber', 'date', 'year', 'type', 'country', 'area', 'location',\n",
       "       'activity', 'name', 'sex', 'age', 'injury', 'fatal(y/n)', 'time',\n",
       "       'species', 'investigatororsource', 'pdf', 'hrefformula', 'href',\n",
       "       'casenumber.1', 'casenumber.2', 'originalorder', 'ocean', 'unnamed:23'],\n",
       "      dtype='object')"
      ]
     },
     "execution_count": 29,
     "metadata": {},
     "output_type": "execute_result"
    }
   ],
   "source": [
    "data.columns=[col.lower().replace(' ', '') for col in data.columns]\n",
    "\n",
    "data.columns"
   ]
  },
  {
   "cell_type": "code",
   "execution_count": 31,
   "id": "66548966",
   "metadata": {},
   "outputs": [
    {
     "data": {
      "text/html": [
       "<div>\n",
       "<style scoped>\n",
       "    .dataframe tbody tr th:only-of-type {\n",
       "        vertical-align: middle;\n",
       "    }\n",
       "\n",
       "    .dataframe tbody tr th {\n",
       "        vertical-align: top;\n",
       "    }\n",
       "\n",
       "    .dataframe thead th {\n",
       "        text-align: right;\n",
       "    }\n",
       "</style>\n",
       "<table border=\"1\" class=\"dataframe\">\n",
       "  <thead>\n",
       "    <tr style=\"text-align: right;\">\n",
       "      <th></th>\n",
       "      <th>casenumber</th>\n",
       "      <th>date</th>\n",
       "      <th>year</th>\n",
       "      <th>type</th>\n",
       "      <th>country</th>\n",
       "      <th>area</th>\n",
       "      <th>location</th>\n",
       "      <th>activity</th>\n",
       "      <th>name</th>\n",
       "      <th>sex</th>\n",
       "      <th>age</th>\n",
       "      <th>injury</th>\n",
       "      <th>fatal(y/n)</th>\n",
       "      <th>time</th>\n",
       "      <th>species</th>\n",
       "      <th>investigatororsource</th>\n",
       "      <th>pdf</th>\n",
       "      <th>hrefformula</th>\n",
       "      <th>href</th>\n",
       "      <th>casenumber.1</th>\n",
       "      <th>casenumber.2</th>\n",
       "      <th>originalorder</th>\n",
       "      <th>ocean</th>\n",
       "      <th>unnamed:23</th>\n",
       "    </tr>\n",
       "  </thead>\n",
       "  <tbody>\n",
       "    <tr>\n",
       "      <th>3283</th>\n",
       "      <td>ND.0052</td>\n",
       "      <td>Before 1957</td>\n",
       "      <td>0.0</td>\n",
       "      <td>Unprovoked</td>\n",
       "      <td>NICARAGUA</td>\n",
       "      <td>Lake Nicaragua (fresh water)</td>\n",
       "      <td>A village  north of San Carlos</td>\n",
       "      <td>Lashing logs together when he fell into the water</td>\n",
       "      <td>an Indian</td>\n",
       "      <td>M</td>\n",
       "      <td>NaN</td>\n",
       "      <td>FATAL, leg severed</td>\n",
       "      <td>y</td>\n",
       "      <td>NaN</td>\n",
       "      <td>Bull shark caught, leg recovered &amp; buried besi...</td>\n",
       "      <td>F. Poli, pp.150-153</td>\n",
       "      <td>ND-0052-NicaraguanIndian.pdf</td>\n",
       "      <td>http://sharkattackfile.net/spreadsheets/pdf_di...</td>\n",
       "      <td>http://sharkattackfile.net/spreadsheets/pdf_di...</td>\n",
       "      <td>ND.0052</td>\n",
       "      <td>ND.0052</td>\n",
       "      <td>50.0</td>\n",
       "      <td>NaN</td>\n",
       "      <td>NaN</td>\n",
       "    </tr>\n",
       "    <tr>\n",
       "      <th>3284</th>\n",
       "      <td>ND.0038</td>\n",
       "      <td>1941-1942</td>\n",
       "      <td>0.0</td>\n",
       "      <td>Unprovoked</td>\n",
       "      <td>IRAQ</td>\n",
       "      <td>Basrah</td>\n",
       "      <td>Shatt-el Arab River near a small boat stand</td>\n",
       "      <td>Swimming</td>\n",
       "      <td>male</td>\n",
       "      <td>M</td>\n",
       "      <td>13 or 14</td>\n",
       "      <td>FATAL, left leg bitten with severe blood loss</td>\n",
       "      <td>y</td>\n",
       "      <td>Afternoon</td>\n",
       "      <td>Bull shark</td>\n",
       "      <td>B.W. Coad &amp; L.A.J. Al-Hassan</td>\n",
       "      <td>ND-0038-Shatt-al-Arab.pdf</td>\n",
       "      <td>http://sharkattackfile.net/spreadsheets/pdf_di...</td>\n",
       "      <td>http://sharkattackfile.net/spreadsheets/pdf_di...</td>\n",
       "      <td>ND.0038</td>\n",
       "      <td>ND.0038</td>\n",
       "      <td>38.0</td>\n",
       "      <td>NaN</td>\n",
       "      <td>NaN</td>\n",
       "    </tr>\n",
       "    <tr>\n",
       "      <th>3285</th>\n",
       "      <td>ND.0037</td>\n",
       "      <td>1940 - 1950</td>\n",
       "      <td>0.0</td>\n",
       "      <td>Unprovoked</td>\n",
       "      <td>SAUDI ARABIA</td>\n",
       "      <td>Eastern Province</td>\n",
       "      <td>East of the Ras Tanura-Jubail area</td>\n",
       "      <td>Diving</td>\n",
       "      <td>a pearl diver</td>\n",
       "      <td>M</td>\n",
       "      <td>NaN</td>\n",
       "      <td>FATAL, died of sepsis</td>\n",
       "      <td>y</td>\n",
       "      <td>NaN</td>\n",
       "      <td>\"a black-tipped shark\"</td>\n",
       "      <td>G.F. Mead</td>\n",
       "      <td>ND-0037-PearlDiver-sepsis.pdf</td>\n",
       "      <td>http://sharkattackfile.net/spreadsheets/pdf_di...</td>\n",
       "      <td>http://sharkattackfile.net/spreadsheets/pdf_di...</td>\n",
       "      <td>ND.0037</td>\n",
       "      <td>ND.0037</td>\n",
       "      <td>37.0</td>\n",
       "      <td>NaN</td>\n",
       "      <td>NaN</td>\n",
       "    </tr>\n",
       "    <tr>\n",
       "      <th>3286</th>\n",
       "      <td>ND.0036</td>\n",
       "      <td>1940 - 1950</td>\n",
       "      <td>0.0</td>\n",
       "      <td>Unprovoked</td>\n",
       "      <td>SAUDI ARABIA</td>\n",
       "      <td>Eastern Province</td>\n",
       "      <td>East of the Ras Tanura-Jubail area</td>\n",
       "      <td>Diving</td>\n",
       "      <td>a fisherman / diver</td>\n",
       "      <td>M</td>\n",
       "      <td>NaN</td>\n",
       "      <td>Buttocks bitten</td>\n",
       "      <td>n</td>\n",
       "      <td>NaN</td>\n",
       "      <td>6' shark</td>\n",
       "      <td>G.F. Mead</td>\n",
       "      <td>ND-0036-Fisherman-SaudiArabia.pdf</td>\n",
       "      <td>http://sharkattackfile.net/spreadsheets/pdf_di...</td>\n",
       "      <td>http://sharkattackfile.net/spreadsheets/pdf_di...</td>\n",
       "      <td>ND.0036</td>\n",
       "      <td>ND.0036</td>\n",
       "      <td>36.0</td>\n",
       "      <td>NaN</td>\n",
       "      <td>NaN</td>\n",
       "    </tr>\n",
       "    <tr>\n",
       "      <th>3287</th>\n",
       "      <td>ND.0006</td>\n",
       "      <td>Before 1906</td>\n",
       "      <td>0.0</td>\n",
       "      <td>Unprovoked</td>\n",
       "      <td>AUSTRALIA</td>\n",
       "      <td>New South Wales</td>\n",
       "      <td></td>\n",
       "      <td>Swimming</td>\n",
       "      <td>Arab boy</td>\n",
       "      <td>M</td>\n",
       "      <td>NaN</td>\n",
       "      <td>FATAL</td>\n",
       "      <td>y</td>\n",
       "      <td>NaN</td>\n",
       "      <td>Said to involve a grey nurse shark that leapt ...</td>\n",
       "      <td>L. Becke in New York Sun, 9/9/1906; L. Schultz...</td>\n",
       "      <td>ND-0006-ArabBoy-Prymount.pdf</td>\n",
       "      <td>http://sharkattackfile.net/spreadsheets/pdf_di...</td>\n",
       "      <td>http://sharkattackfile.net/spreadsheets/pdf_di...</td>\n",
       "      <td>ND.0006</td>\n",
       "      <td>ND.0006</td>\n",
       "      <td>7.0</td>\n",
       "      <td>NaN</td>\n",
       "      <td>NaN</td>\n",
       "    </tr>\n",
       "  </tbody>\n",
       "</table>\n",
       "</div>"
      ],
      "text/plain": [
       "     casenumber         date  year        type       country  \\\n",
       "3283    ND.0052  Before 1957   0.0  Unprovoked     NICARAGUA   \n",
       "3284    ND.0038    1941-1942   0.0  Unprovoked          IRAQ   \n",
       "3285    ND.0037  1940 - 1950   0.0  Unprovoked  SAUDI ARABIA   \n",
       "3286    ND.0036  1940 - 1950   0.0  Unprovoked  SAUDI ARABIA   \n",
       "3287    ND.0006  Before 1906   0.0  Unprovoked     AUSTRALIA   \n",
       "\n",
       "                              area  \\\n",
       "3283  Lake Nicaragua (fresh water)   \n",
       "3284                        Basrah   \n",
       "3285              Eastern Province   \n",
       "3286              Eastern Province   \n",
       "3287               New South Wales   \n",
       "\n",
       "                                         location  \\\n",
       "3283               A village  north of San Carlos   \n",
       "3284  Shatt-el Arab River near a small boat stand   \n",
       "3285          East of the Ras Tanura-Jubail area    \n",
       "3286          East of the Ras Tanura-Jubail area    \n",
       "3287                                                \n",
       "\n",
       "                                               activity                 name  \\\n",
       "3283  Lashing logs together when he fell into the water            an Indian   \n",
       "3284                                           Swimming                 male   \n",
       "3285                                             Diving        a pearl diver   \n",
       "3286                                             Diving  a fisherman / diver   \n",
       "3287                                           Swimming             Arab boy   \n",
       "\n",
       "     sex       age                                         injury fatal(y/n)  \\\n",
       "3283   M       NaN                            FATAL, leg severed           y   \n",
       "3284   M  13 or 14  FATAL, left leg bitten with severe blood loss          y   \n",
       "3285   M       NaN                          FATAL, died of sepsis          y   \n",
       "3286   M       NaN                                Buttocks bitten          n   \n",
       "3287   M       NaN                                          FATAL          y   \n",
       "\n",
       "           time                                            species  \\\n",
       "3283        NaN  Bull shark caught, leg recovered & buried besi...   \n",
       "3284  Afternoon                                         Bull shark   \n",
       "3285        NaN                             \"a black-tipped shark\"   \n",
       "3286        NaN                                           6' shark   \n",
       "3287        NaN  Said to involve a grey nurse shark that leapt ...   \n",
       "\n",
       "                                   investigatororsource  \\\n",
       "3283                                F. Poli, pp.150-153   \n",
       "3284                       B.W. Coad & L.A.J. Al-Hassan   \n",
       "3285                                          G.F. Mead   \n",
       "3286                                          G.F. Mead   \n",
       "3287  L. Becke in New York Sun, 9/9/1906; L. Schultz...   \n",
       "\n",
       "                                    pdf  \\\n",
       "3283       ND-0052-NicaraguanIndian.pdf   \n",
       "3284          ND-0038-Shatt-al-Arab.pdf   \n",
       "3285      ND-0037-PearlDiver-sepsis.pdf   \n",
       "3286  ND-0036-Fisherman-SaudiArabia.pdf   \n",
       "3287       ND-0006-ArabBoy-Prymount.pdf   \n",
       "\n",
       "                                            hrefformula  \\\n",
       "3283  http://sharkattackfile.net/spreadsheets/pdf_di...   \n",
       "3284  http://sharkattackfile.net/spreadsheets/pdf_di...   \n",
       "3285  http://sharkattackfile.net/spreadsheets/pdf_di...   \n",
       "3286  http://sharkattackfile.net/spreadsheets/pdf_di...   \n",
       "3287  http://sharkattackfile.net/spreadsheets/pdf_di...   \n",
       "\n",
       "                                                   href casenumber.1  \\\n",
       "3283  http://sharkattackfile.net/spreadsheets/pdf_di...      ND.0052   \n",
       "3284  http://sharkattackfile.net/spreadsheets/pdf_di...      ND.0038   \n",
       "3285  http://sharkattackfile.net/spreadsheets/pdf_di...      ND.0037   \n",
       "3286  http://sharkattackfile.net/spreadsheets/pdf_di...      ND.0036   \n",
       "3287  http://sharkattackfile.net/spreadsheets/pdf_di...      ND.0006   \n",
       "\n",
       "     casenumber.2  originalorder ocean unnamed:23  \n",
       "3283      ND.0052           50.0   NaN        NaN  \n",
       "3284      ND.0038           38.0   NaN        NaN  \n",
       "3285      ND.0037           37.0   NaN        NaN  \n",
       "3286      ND.0036           36.0   NaN        NaN  \n",
       "3287      ND.0006            7.0   NaN        NaN  "
      ]
     },
     "execution_count": 31,
     "metadata": {},
     "output_type": "execute_result"
    }
   ],
   "source": [
    "data.tail()"
   ]
  },
  {
   "cell_type": "code",
   "execution_count": 32,
   "id": "13e19205",
   "metadata": {},
   "outputs": [
    {
     "data": {
      "text/plain": [
       "country                    1\n",
       "area                      60\n",
       "name                      32\n",
       "sex                      198\n",
       "age                      823\n",
       "injury                     2\n",
       "time                    1002\n",
       "investigatororsource       5\n",
       "ocean                   2727\n",
       "unnamed:23              2727\n",
       "dtype: int64"
      ]
     },
     "execution_count": 32,
     "metadata": {},
     "output_type": "execute_result"
    }
   ],
   "source": [
    "nan_cols = data.isna().sum()\n",
    "\n",
    "nan_cols[nan_cols>0]\n"
   ]
  },
  {
   "cell_type": "code",
   "execution_count": null,
   "id": "bc28ab82",
   "metadata": {},
   "outputs": [],
   "source": []
  }
 ],
 "metadata": {
  "kernelspec": {
   "display_name": "base",
   "language": "python",
   "name": "base"
  },
  "language_info": {
   "codemirror_mode": {
    "name": "ipython",
    "version": 3
   },
   "file_extension": ".py",
   "mimetype": "text/x-python",
   "name": "python",
   "nbconvert_exporter": "python",
   "pygments_lexer": "ipython3",
   "version": "3.10.9"
  }
 },
 "nbformat": 4,
 "nbformat_minor": 5
}
